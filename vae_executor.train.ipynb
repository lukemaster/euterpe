{
 "cells": [
  {
   "cell_type": "code",
   "execution_count": 1,
   "metadata": {},
   "outputs": [
    {
     "name": "stdout",
     "output_type": "stream",
     "text": [
      "Creating valid_files\n",
      "done valid_files\n",
      "dataset done\n",
      "dataloader done\n"
     ]
    }
   ],
   "source": [
    "import sys\n",
    "import os\n",
    "sys.path.append(\"/home/luke/VIU/09MIAR/src\")\n",
    "\n",
    "from vae.datasets.audio_dataset import AudioDataset\n",
    "from vae.datasets.mp3_validator import MP3ValidatorDataset\n",
    "from vae.datasources.fma_datasource import FMADatasource\n",
    "import torch\n",
    "from torch.utils.data import DataLoader\n",
    "\n",
    "from dotenv import load_dotenv\n",
    "load_dotenv('./VIU/09MIAR/src/vae/.env')\n",
    "\n",
    "device = torch.device('cuda' if torch.cuda.is_available() else 'cpu')\n",
    "\n",
    "datasets_path = '/home/luke/VIU/09MIAR/datasets'\n",
    "valid_files_csv_path = '/home/luke/valid_files.csv'\n",
    "\n",
    "def get_dataloader(datasets_path, valid_files_csv_path, num_mels):\n",
    "    fma_dataset = FMADatasource(datasets_path)\n",
    "\n",
    "    file_paths = fma_dataset.get_file_paths()\n",
    "    labels = fma_dataset.get_labels()\n",
    "    mp3Validator = MP3ValidatorDataset(file_paths,labels,valid_files_csv_path,num_mels,10,25,int(os.environ.get('SAMPLE_RATE')))\n",
    "     \n",
    "    num_tracks_per_genre, dict_dataset = fma_dataset.balanced(mp3Validator.getValidFiles() ,int(os.environ.get('LIMIT_FILES'))) # TODO: REMOVE -> limited to 500\n",
    "\n",
    "    file_paths = list(dict_dataset.keys())\n",
    "    labels = [dict_dataset[fp]['label'] for fp in file_paths]\n",
    "\n",
    "    dataset = AudioDataset(file_paths, labels)\n",
    "    print('dataset done')\n",
    "    \n",
    "    # dataloader = DataLoader(dataset, int(os.environ.get('TRAIN_BATCH_SIZE')), shuffle=False, drop_last=True, pin_memory=False)\n",
    "    dataloader = DataLoader(dataset, int(os.environ.get('TRAIN_BATCH_SIZE')), shuffle=True, num_workers=30)\n",
    "    print('dataloader done')\n",
    "\n",
    "    return dataloader, dataset\n",
    "\n",
    "dataloader, dataset = get_dataloader(datasets_path, valid_files_csv_path, int(os.environ.get('NUM_MELS')))\n"
   ]
  },
  {
   "cell_type": "code",
   "execution_count": null,
   "metadata": {},
   "outputs": [],
   "source": [
    "import torch\n",
    "import torch.nn as nn\n",
    "import pytorch_lightning as pl\n",
    "import torch.optim as optim\n",
    "from torch.utils.data import DataLoader\n",
    "import torch.nn.functional as F\n",
    "\n",
    "import torch\n",
    "import torch.nn as nn\n",
    "import torch.nn.functional as F\n",
    "\n",
    "class VAE_Encoder(nn.Module):\n",
    "    def __init__(self):\n",
    "        super(VAE_Encoder, self).__init__()\n",
    "\n",
    "        self.conv1 = nn.Conv2d(1, 32, kernel_size=3, stride=1, padding=1)\n",
    "        self.conv2 = nn.Conv2d(32, 64, kernel_size=3, stride=1, padding=1)\n",
    "\n",
    "    def forward(self, x):\n",
    "        x = F.relu(self.conv1(x))\n",
    "        x = F.relu(self.conv2(x))\n",
    "        return x\n",
    "\n",
    "\n",
    "class VAE_Decoder(nn.Module):\n",
    "    def __init__(self):\n",
    "        super(VAE_Decoder, self).__init__()\n",
    "        self.deconv1 = nn.ConvTranspose2d(64, 32, kernel_size=3, stride=1, padding=1)\n",
    "        self.deconv2 = nn.ConvTranspose2d(32, 1, kernel_size=3, stride=1, padding=1)\n",
    "\n",
    "    def forward(self, x):\n",
    "        x = F.relu(self.deconv1(x))\n",
    "        x = torch.tanh(self.deconv2(x))\n",
    "        return x\n",
    "\n",
    "class VAE(nn.Module):\n",
    "    def __init__(self):\n",
    "        super(VAE, self).__init__()\n",
    "        self.encoder = VAE_Encoder()\n",
    "        self.decoder = VAE_Decoder()\n",
    "\n",
    "    def forward(self, x):\n",
    "        z = self.encoder(x)\n",
    "        reconstructed_x = self.decoder(z)\n",
    "        return reconstructed_x\n",
    "\n",
    "class LitVAE(pl.LightningModule):\n",
    "    def __init__(self, latent_dim=128, learning_rate=1e-3):\n",
    "        super(LitVAE, self).__init__()\n",
    "        self.model = VAE()\n",
    "        self.learning_rate = learning_rate\n",
    "\n",
    "    def forward(self, x):\n",
    "        return self.model(x)\n",
    "\n",
    "    def training_step(self, batch, batch_idx):\n",
    "        x, _ = batch\n",
    "        reconstructed_x = self(x)\n",
    "        loss = ((reconstructed_x - x) ** 2).mean()\n",
    "        return loss\n",
    "\n",
    "    def configure_optimizers(self):\n",
    "        optimizer = optim.Adam(self.parameters(), lr=self.learning_rate)\n",
    "        return optimizer\n"
   ]
  },
  {
   "cell_type": "code",
   "execution_count": null,
   "metadata": {},
   "outputs": [
    {
     "name": "stderr",
     "output_type": "stream",
     "text": [
      "You are using the plain ModelCheckpoint callback. Consider using LitModelCheckpoint which with seamless uploading to Model registry.\n",
      "GPU available: True (cuda), used: True\n",
      "TPU available: False, using: 0 TPU cores\n",
      "HPU available: False, using: 0 HPUs\n",
      "LOCAL_RANK: 0 - CUDA_VISIBLE_DEVICES: [0]\n",
      "\n",
      "  | Name  | Type | Params | Mode \n",
      "---------------------------------------\n",
      "0 | model | VAE  | 37.6 K | train\n",
      "---------------------------------------\n",
      "37.6 K    Trainable params\n",
      "0         Non-trainable params\n",
      "37.6 K    Total params\n",
      "0.150     Total estimated model params size (MB)\n",
      "7         Modules in train mode\n",
      "0         Modules in eval mode\n"
     ]
    },
    {
     "data": {
      "application/vnd.jupyter.widget-view+json": {
       "model_id": "d28639fec8284872bab7ae84c4d23a8d",
       "version_major": 2,
       "version_minor": 0
      },
      "text/plain": [
       "Training: |          | 0/? [00:00<?, ?it/s]"
      ]
     },
     "metadata": {},
     "output_type": "display_data"
    }
   ],
   "source": [
    "\n",
    "train_dataloader = DataLoader(dataset, batch_size=16, shuffle=True)\n",
    "\n",
    "model = LitVAE(latent_dim=128)\n",
    "\n",
    "trainer = pl.Trainer(max_epochs=5)\n",
    "\n",
    "trainer.fit(model, train_dataloader)"
   ]
  },
  {
   "cell_type": "code",
   "execution_count": null,
   "metadata": {},
   "outputs": [],
   "source": [
    "import matplotlib.pyplot as plt\n",
    "\n",
    "model.eval()\n",
    "\n",
    "with torch.no_grad():\n",
    "    for batch in train_dataloader:\n",
    "        x, _ = batch\n",
    "        x = x.to(model.device)\n",
    "\n",
    "        reconstructed_x = model(x)\n",
    "\n",
    "        original = x[0].squeeze().cpu().numpy()\n",
    "        reconstruido = reconstructed_x[0].squeeze().cpu().numpy()\n",
    "\n",
    "        fig, axs = plt.subplots(1, 2, figsize=(12, 5))\n",
    "        axs[0].imshow(original, aspect='auto', origin='lower', cmap='magma')\n",
    "        axs[0].set_title(\"Original\")\n",
    "        axs[1].imshow(reconstruido, aspect='auto', origin='lower', cmap='magma')\n",
    "        axs[1].set_title(\"Reconstruido\")\n",
    "        plt.tight_layout()\n",
    "        plt.show()\n",
    "\n",
    "        break"
   ]
  }
 ],
 "metadata": {
  "kernelspec": {
   "display_name": "Python (jupyter_env)",
   "language": "python",
   "name": "jupyter_env"
  },
  "language_info": {
   "codemirror_mode": {
    "name": "ipython",
    "version": 3
   },
   "file_extension": ".py",
   "mimetype": "text/x-python",
   "name": "python",
   "nbconvert_exporter": "python",
   "pygments_lexer": "ipython3",
   "version": "3.12.7"
  }
 },
 "nbformat": 4,
 "nbformat_minor": 2
}
