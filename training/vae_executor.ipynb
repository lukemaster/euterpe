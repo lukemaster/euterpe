{
 "cells": [
  {
   "cell_type": "code",
   "execution_count": null,
   "metadata": {},
   "outputs": [],
   "source": [
    "import sys\n",
    "sys.path.append(\"/home/luke/VIU/09MIAR/euterpe\")\n",
    "\n",
    "## KEEP IT IN A BLOCK ##\n",
    "import numpy as np\n",
    "np.complex = complex  # Corrección temporal necesaria para librosa\n",
    "########################\n",
    "\n",
    "import os\n",
    "import argparse\n",
    "\n",
    "import torch\n",
    "from torch.utils.data import DataLoader\n",
    "\n",
    "from pytorch_lightning import Trainer\n",
    "\n",
    "from training.datasources.fma_datasource import FMADatasource\n",
    "from training.datasets.mp3_validator import MP3ValidatorDataset\n",
    "from training.datasets.lit_data_module import VAEDataModule\n",
    "\n",
    "from training.gan.gan import GAN\n",
    "from training.vae.vae import VAE\n",
    "from training.gan.GAN_AI_model_wrapper import GANAIModelWrapper\n",
    "from training.vae.VAE_AI_model_wrapper import VAEAIModelWrapper\n",
    "from training.datasets.audio_dataset import AudioDataset\n",
    "\n",
    "import torch\n",
    "\n",
    "import training.main as main\n",
    "\n",
    "device = torch.device('cuda' if torch.cuda.is_available() else 'cpu')\n",
    "\n",
    "datasets_path = '/home/luke/VIU/09MIAR/datasets'\n",
    "valid_files_csv_path = '/home/luke/valid_files.csv'\n",
    "\n",
    "fma_dataset = FMADatasource(datasets_path)\n",
    "\n",
    "file_paths = fma_dataset.get_file_paths()\n",
    "labels = fma_dataset.get_labels()\n",
    "mp3Validator = MP3ValidatorDataset(file_paths,labels,valid_files_csv_path,int(os.environ.get('TOTAL_DURATION'))) #TODO: params\n",
    "    \n",
    "_, dict_dataset = fma_dataset.balanced(mp3Validator.getValidFiles() ,int(os.environ.get('LIMIT_FILES')))\n",
    "\n",
    "file_paths = list(dict_dataset.keys())\n",
    "labels = [dict_dataset[fp]['label'] for fp in file_paths]\n",
    "\n",
    "dataset = AudioDataset(file_paths, labels)\n",
    "\n",
    "dataloader = DataLoader(dataset, 1, shuffle=False, num_workers=1)\n",
    "i = 0\n",
    "for batch in dataloader:\n",
    "    \n",
    "    i+=1\n",
    "    if i > 10:\n",
    "        break"
   ]
  },
  {
   "cell_type": "code",
   "execution_count": null,
   "metadata": {},
   "outputs": [],
   "source": [
    "import torch\n",
    "\n",
    "tensor = torch.randn(1025, 5210)\n",
    "print(tensor.element_size())         # bytes por elemento\n",
    "print(tensor.nelement())             # número de elementos\n",
    "print(tensor.element_size() * tensor.nelement()/1024/1024)  # total en bytes"
   ]
  },
  {
   "cell_type": "code",
   "execution_count": 1,
   "metadata": {},
   "outputs": [
    {
     "name": "stdout",
     "output_type": "stream",
     "text": [
      "Powered by: cuda\n",
      "Creating valid_files\n",
      "done valid_files\n"
     ]
    },
    {
     "name": "stderr",
     "output_type": "stream",
     "text": [
      "/home/luke/jupyter_env/lib/python3.12/site-packages/lightning_fabric/connector.py:571: `precision=16` is supported for historical reasons but its usage is discouraged. Please set your precision to 16-mixed instead!\n",
      "Using 16bit Automatic Mixed Precision (AMP)\n",
      "You are using the plain ModelCheckpoint callback. Consider using LitModelCheckpoint which with seamless uploading to Model registry.\n",
      "GPU available: True (cuda), used: True\n",
      "TPU available: False, using: 0 TPU cores\n",
      "HPU available: False, using: 0 HPUs\n",
      "You are using a CUDA device ('NVIDIA GeForce RTX 4070 Laptop GPU') that has Tensor Cores. To properly utilize them, you should set `torch.set_float32_matmul_precision('medium' | 'high')` which will trade-off precision for performance. For more details, read https://pytorch.org/docs/stable/generated/torch.set_float32_matmul_precision.html#torch.set_float32_matmul_precision\n"
     ]
    },
    {
     "name": "stdout",
     "output_type": "stream",
     "text": [
      "dataset done\n",
      "dataloader done\n"
     ]
    },
    {
     "name": "stderr",
     "output_type": "stream",
     "text": [
      "2025-04-02 12:43:54.908597: I tensorflow/core/util/port.cc:113] oneDNN custom operations are on. You may see slightly different numerical results due to floating-point round-off errors from different computation orders. To turn them off, set the environment variable `TF_ENABLE_ONEDNN_OPTS=0`.\n",
      "2025-04-02 12:43:54.927179: I tensorflow/core/platform/cpu_feature_guard.cc:210] This TensorFlow binary is optimized to use available CPU instructions in performance-critical operations.\n",
      "To enable the following instructions: AVX2 AVX_VNNI FMA, in other operations, rebuild TensorFlow with the appropriate compiler flags.\n",
      "2025-04-02 12:43:55.228399: W tensorflow/compiler/tf2tensorrt/utils/py_utils.cc:38] TF-TRT Warning: Could not find TensorRT\n",
      "LOCAL_RANK: 0 - CUDA_VISIBLE_DEVICES: [0]\n",
      "/home/luke/jupyter_env/lib/python3.12/site-packages/torch/optim/lr_scheduler.py:62: UserWarning: The verbose parameter is deprecated. Please use get_last_lr() to access the learning rate.\n",
      "  warnings.warn(\n",
      "\n",
      "  | Name  | Type | Params | Mode \n",
      "---------------------------------------\n",
      "0 | model | VAE  | 132 M  | train\n",
      "---------------------------------------\n",
      "132 M     Trainable params\n",
      "0         Non-trainable params\n",
      "132 M     Total params\n",
      "531.087   Total estimated model params size (MB)\n",
      "21        Modules in train mode\n",
      "0         Modules in eval mode\n"
     ]
    },
    {
     "data": {
      "application/vnd.jupyter.widget-view+json": {
       "model_id": "f1d1de6aa5704224978e631ce43f676d",
       "version_major": 2,
       "version_minor": 0
      },
      "text/plain": [
       "Sanity Checking: |          | 0/? [00:00<?, ?it/s]"
      ]
     },
     "metadata": {},
     "output_type": "display_data"
    },
    {
     "data": {
      "application/vnd.jupyter.widget-view+json": {
       "model_id": "6d4dc89bb84f4445a3142ed023b2365f",
       "version_major": 2,
       "version_minor": 0
      },
      "text/plain": [
       "Training: |          | 0/? [00:00<?, ?it/s]"
      ]
     },
     "metadata": {},
     "output_type": "display_data"
    },
    {
     "data": {
      "application/vnd.jupyter.widget-view+json": {
       "model_id": "7879f965bbf64ff4918e317bd3ee7c2a",
       "version_major": 2,
       "version_minor": 0
      },
      "text/plain": [
       "Validation: |          | 0/? [00:00<?, ?it/s]"
      ]
     },
     "metadata": {},
     "output_type": "display_data"
    },
    {
     "name": "stdout",
     "output_type": "stream",
     "text": [
      "[INFO] Época 0 completada — mean_x=-0.0011, std_x=1.0003\n"
     ]
    },
    {
     "data": {
      "application/vnd.jupyter.widget-view+json": {
       "model_id": "404c359e8a2a468f956bf2893760a123",
       "version_major": 2,
       "version_minor": 0
      },
      "text/plain": [
       "Validation: |          | 0/? [00:00<?, ?it/s]"
      ]
     },
     "metadata": {},
     "output_type": "display_data"
    },
    {
     "name": "stdout",
     "output_type": "stream",
     "text": [
      "[INFO] Época 1 completada — mean_x=-0.0011, std_x=1.0003\n"
     ]
    },
    {
     "name": "stderr",
     "output_type": "stream",
     "text": [
      "`Trainer.fit` stopped: `max_epochs=2` reached.\n"
     ]
    }
   ],
   "source": [
    "import sys\n",
    "sys.path.append(\"/home/luke/VIU/09MIAR/euterpe\")\n",
    "\n",
    "import training.main as main\n",
    "\n",
    "datasets_path = '/home/luke/VIU/09MIAR/datasets'\n",
    "valid_files_csv_path = '/home/luke/valid_files.csv'\n",
    "\n",
    "main.train_vae(datasets_path,valid_files_csv_path)"
   ]
  },
  {
   "cell_type": "code",
   "execution_count": 2,
   "metadata": {},
   "outputs": [
    {
     "ename": "RuntimeError",
     "evalue": "Error(s) in loading state_dict for VAEAIModelWrapper:\n\tsize mismatch for model.decoder.lstm.weight_ih_l0: copying a param with shape torch.Size([512, 128]) from checkpoint, the shape in current model is torch.Size([64, 16]).\n\tsize mismatch for model.decoder.lstm.weight_hh_l0: copying a param with shape torch.Size([512, 128]) from checkpoint, the shape in current model is torch.Size([64, 16]).\n\tsize mismatch for model.decoder.lstm.bias_ih_l0: copying a param with shape torch.Size([512]) from checkpoint, the shape in current model is torch.Size([64]).\n\tsize mismatch for model.decoder.lstm.bias_hh_l0: copying a param with shape torch.Size([512]) from checkpoint, the shape in current model is torch.Size([64]).",
     "output_type": "error",
     "traceback": [
      "\u001b[0;31m---------------------------------------------------------------------------\u001b[0m",
      "\u001b[0;31mRuntimeError\u001b[0m                              Traceback (most recent call last)",
      "Cell \u001b[0;32mIn[2], line 14\u001b[0m\n\u001b[1;32m     11\u001b[0m datasets_path \u001b[38;5;241m=\u001b[39m \u001b[38;5;124m'\u001b[39m\u001b[38;5;124m/home/luke/VIU/09MIAR/datasets\u001b[39m\u001b[38;5;124m'\u001b[39m\n\u001b[1;32m     12\u001b[0m valid_files_csv_path \u001b[38;5;241m=\u001b[39m \u001b[38;5;124m'\u001b[39m\u001b[38;5;124m/home/luke/valid_files.csv\u001b[39m\u001b[38;5;124m'\u001b[39m\n\u001b[0;32m---> 14\u001b[0m \u001b[43mmain\u001b[49m\u001b[38;5;241;43m.\u001b[39;49m\u001b[43mgenerate_audio_vae\u001b[49m\u001b[43m(\u001b[49m\u001b[38;5;124;43m\"\u001b[39;49m\u001b[38;5;124;43mcheckpoints/vae_last_1.pt\u001b[39;49m\u001b[38;5;124;43m\"\u001b[39;49m\u001b[43m,\u001b[49m\u001b[38;5;241;43m0\u001b[39;49m\u001b[43m)\u001b[49m\n\u001b[1;32m     15\u001b[0m main\u001b[38;5;241m.\u001b[39mgenerate_audio_vae(\u001b[38;5;124m\"\u001b[39m\u001b[38;5;124mcheckpoints/vae_last_1.pt\u001b[39m\u001b[38;5;124m\"\u001b[39m,\u001b[38;5;241m1\u001b[39m)\n\u001b[1;32m     16\u001b[0m main\u001b[38;5;241m.\u001b[39mgenerate_audio_vae(\u001b[38;5;124m\"\u001b[39m\u001b[38;5;124mcheckpoints/vae_last_1.pt\u001b[39m\u001b[38;5;124m\"\u001b[39m,\u001b[38;5;241m2\u001b[39m)\n",
      "File \u001b[0;32m~/VIU/09MIAR/euterpe/training/main.py:108\u001b[0m, in \u001b[0;36mgenerate_audio_vae\u001b[0;34m(model_path, genre_id)\u001b[0m\n\u001b[1;32m    105\u001b[0m model \u001b[38;5;241m=\u001b[39m VAEAIModelWrapper(model_base)\n\u001b[1;32m    107\u001b[0m checkpoint \u001b[38;5;241m=\u001b[39m torch\u001b[38;5;241m.\u001b[39mload(model_path, map_location\u001b[38;5;241m=\u001b[39m\u001b[38;5;124m\"\u001b[39m\u001b[38;5;124mcuda\u001b[39m\u001b[38;5;124m\"\u001b[39m)\n\u001b[0;32m--> 108\u001b[0m \u001b[43mmodel\u001b[49m\u001b[38;5;241;43m.\u001b[39;49m\u001b[43mload_state_dict\u001b[49m\u001b[43m(\u001b[49m\u001b[43mcheckpoint\u001b[49m\u001b[43m[\u001b[49m\u001b[38;5;124;43m\"\u001b[39;49m\u001b[38;5;124;43mmodel\u001b[39;49m\u001b[38;5;124;43m\"\u001b[39;49m\u001b[43m]\u001b[49m\u001b[43m)\u001b[49m\n\u001b[1;32m    110\u001b[0m \u001b[38;5;66;03m# model.load_state_dict(torch.load(model_path, map_location=\"cuda\"))\u001b[39;00m\n\u001b[1;32m    111\u001b[0m model\u001b[38;5;241m.\u001b[39mto(\u001b[38;5;124m\"\u001b[39m\u001b[38;5;124mcuda\u001b[39m\u001b[38;5;124m\"\u001b[39m)\n",
      "File \u001b[0;32m~/jupyter_env/lib/python3.12/site-packages/torch/nn/modules/module.py:2581\u001b[0m, in \u001b[0;36mModule.load_state_dict\u001b[0;34m(self, state_dict, strict, assign)\u001b[0m\n\u001b[1;32m   2573\u001b[0m         error_msgs\u001b[38;5;241m.\u001b[39minsert(\n\u001b[1;32m   2574\u001b[0m             \u001b[38;5;241m0\u001b[39m,\n\u001b[1;32m   2575\u001b[0m             \u001b[38;5;124m\"\u001b[39m\u001b[38;5;124mMissing key(s) in state_dict: \u001b[39m\u001b[38;5;132;01m{}\u001b[39;00m\u001b[38;5;124m. \u001b[39m\u001b[38;5;124m\"\u001b[39m\u001b[38;5;241m.\u001b[39mformat(\n\u001b[1;32m   2576\u001b[0m                 \u001b[38;5;124m\"\u001b[39m\u001b[38;5;124m, \u001b[39m\u001b[38;5;124m\"\u001b[39m\u001b[38;5;241m.\u001b[39mjoin(\u001b[38;5;124mf\u001b[39m\u001b[38;5;124m'\u001b[39m\u001b[38;5;124m\"\u001b[39m\u001b[38;5;132;01m{\u001b[39;00mk\u001b[38;5;132;01m}\u001b[39;00m\u001b[38;5;124m\"\u001b[39m\u001b[38;5;124m'\u001b[39m \u001b[38;5;28;01mfor\u001b[39;00m k \u001b[38;5;129;01min\u001b[39;00m missing_keys)\n\u001b[1;32m   2577\u001b[0m             ),\n\u001b[1;32m   2578\u001b[0m         )\n\u001b[1;32m   2580\u001b[0m \u001b[38;5;28;01mif\u001b[39;00m \u001b[38;5;28mlen\u001b[39m(error_msgs) \u001b[38;5;241m>\u001b[39m \u001b[38;5;241m0\u001b[39m:\n\u001b[0;32m-> 2581\u001b[0m     \u001b[38;5;28;01mraise\u001b[39;00m \u001b[38;5;167;01mRuntimeError\u001b[39;00m(\n\u001b[1;32m   2582\u001b[0m         \u001b[38;5;124m\"\u001b[39m\u001b[38;5;124mError(s) in loading state_dict for \u001b[39m\u001b[38;5;132;01m{}\u001b[39;00m\u001b[38;5;124m:\u001b[39m\u001b[38;5;130;01m\\n\u001b[39;00m\u001b[38;5;130;01m\\t\u001b[39;00m\u001b[38;5;132;01m{}\u001b[39;00m\u001b[38;5;124m\"\u001b[39m\u001b[38;5;241m.\u001b[39mformat(\n\u001b[1;32m   2583\u001b[0m             \u001b[38;5;28mself\u001b[39m\u001b[38;5;241m.\u001b[39m\u001b[38;5;18m__class__\u001b[39m\u001b[38;5;241m.\u001b[39m\u001b[38;5;18m__name__\u001b[39m, \u001b[38;5;124m\"\u001b[39m\u001b[38;5;130;01m\\n\u001b[39;00m\u001b[38;5;130;01m\\t\u001b[39;00m\u001b[38;5;124m\"\u001b[39m\u001b[38;5;241m.\u001b[39mjoin(error_msgs)\n\u001b[1;32m   2584\u001b[0m         )\n\u001b[1;32m   2585\u001b[0m     )\n\u001b[1;32m   2586\u001b[0m \u001b[38;5;28;01mreturn\u001b[39;00m _IncompatibleKeys(missing_keys, unexpected_keys)\n",
      "\u001b[0;31mRuntimeError\u001b[0m: Error(s) in loading state_dict for VAEAIModelWrapper:\n\tsize mismatch for model.decoder.lstm.weight_ih_l0: copying a param with shape torch.Size([512, 128]) from checkpoint, the shape in current model is torch.Size([64, 16]).\n\tsize mismatch for model.decoder.lstm.weight_hh_l0: copying a param with shape torch.Size([512, 128]) from checkpoint, the shape in current model is torch.Size([64, 16]).\n\tsize mismatch for model.decoder.lstm.bias_ih_l0: copying a param with shape torch.Size([512]) from checkpoint, the shape in current model is torch.Size([64]).\n\tsize mismatch for model.decoder.lstm.bias_hh_l0: copying a param with shape torch.Size([512]) from checkpoint, the shape in current model is torch.Size([64])."
     ]
    }
   ],
   "source": [
    "import sys\n",
    "sys.path.append(\"/home/luke/VIU/09MIAR/euterpe\")\n",
    "\n",
    "import torch\n",
    "\n",
    "import training.main as main\n",
    "\n",
    "device = torch.device('cuda' if torch.cuda.is_available() else 'cpu')\n",
    "\n",
    "\n",
    "datasets_path = '/home/luke/VIU/09MIAR/datasets'\n",
    "valid_files_csv_path = '/home/luke/valid_files.csv'\n",
    "\n",
    "main.generate_audio_vae(\"checkpoints/vae_last_1.pt\",0)\n",
    "main.generate_audio_vae(\"checkpoints/vae_last_1.pt\",1)\n",
    "main.generate_audio_vae(\"checkpoints/vae_last_1.pt\",2)\n",
    "main.generate_audio_vae(\"checkpoints/vae_last_1.pt\",3)\n",
    "main.generate_audio_vae(\"checkpoints/vae_last_1.pt\",4)\n",
    "main.generate_audio_vae(\"checkpoints/vae_last_1.pt\",7)"
   ]
  },
  {
   "cell_type": "code",
   "execution_count": null,
   "metadata": {},
   "outputs": [],
   "source": [
    "model = LitVAE()\n",
    "model.load_state_dict(torch.load(\"checkpoints/vae_best.pt\", map_location=\"cuda\"))\n",
    "model.to(\"cuda\")\n",
    "model.eval()\n",
    "\n",
    "generate_audio_from_noise(model, genre_id=0, output_path=\"sample_genre0.wav\")\n",
    "generate_audio_from_noise(model, genre_id=1, output_path=\"sample_genre1.wav\")\n",
    "generate_audio_from_noise(model, genre_id=2, output_path=\"sample_genre2.wav\")\n",
    "generate_audio_from_noise(model, genre_id=3, output_path=\"sample_genre3.wav\")\n",
    "generate_audio_from_noise(model, genre_id=4, output_path=\"sample_genre4.wav\")\n",
    "generate_audio_from_noise(model, genre_id=7, output_path=\"sample_genre7.wav\")"
   ]
  },
  {
   "cell_type": "code",
   "execution_count": null,
   "metadata": {},
   "outputs": [],
   "source": [
    "\n",
    "batch = next(iter(dataloader))\n",
    "\n",
    "\n",
    "x, y = batch\n",
    "\n",
    "print(\"Shape del batch completo (x):\", x.shape)\n",
    "print(\"Shape del target (y):\", y.shape if y is not None else \"None\")\n",
    "\n",
    "\n",
    "print(\"\\nEjemplo individual:\")\n",
    "ejemplo = x[0]\n",
    "print(\"Shape del ejemplo:\", ejemplo.shape)\n",
    "\n",
    "\n",
    "import matplotlib.pyplot as plt\n",
    "\n",
    "if ejemplo.ndim == 3:\n",
    "\n",
    "    plt.imshow(ejemplo.squeeze().cpu(), aspect='auto', origin='lower')\n",
    "    plt.title(\"Espectrograma del primer segmento\")\n",
    "    plt.colorbar()\n",
    "    plt.show()\n",
    "elif ejemplo.ndim == 4:\n",
    "\n",
    "    print(\"Número de segmentos:\", ejemplo.shape[0])\n",
    "    fig, axs = plt.subplots(1, ejemplo.shape[0], figsize=(15, 3))\n",
    "    for i in range(ejemplo.shape[0]):\n",
    "        axs[i].imshow(ejemplo[i].squeeze().cpu(), aspect='auto', origin='lower')\n",
    "        axs[i].set_title(f\"Segmento {i+1}\")\n",
    "    plt.show()\n",
    "else:\n",
    "    print(\"Formato no esperado.\")\n"
   ]
  },
  {
   "cell_type": "code",
   "execution_count": null,
   "metadata": {},
   "outputs": [],
   "source": [
    "! pip list"
   ]
  }
 ],
 "metadata": {
  "kernelspec": {
   "display_name": "Python (jupyter_env)",
   "language": "python",
   "name": "jupyter_env"
  },
  "language_info": {
   "codemirror_mode": {
    "name": "ipython",
    "version": 3
   },
   "file_extension": ".py",
   "mimetype": "text/x-python",
   "name": "python",
   "nbconvert_exporter": "python",
   "pygments_lexer": "ipython3",
   "version": "3.12.7"
  }
 },
 "nbformat": 4,
 "nbformat_minor": 2
}
