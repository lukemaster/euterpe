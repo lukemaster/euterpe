{
 "cells": [
  {
   "cell_type": "code",
   "execution_count": null,
   "metadata": {},
   "outputs": [],
   "source": [
    "import sys\n",
    "sys.path.append(\"/home/luke/VIU/09MIAR/euterpe\")\n",
    "\n",
    "import torch\n",
    "\n",
    "import training.main as main\n",
    "\n",
    "device = torch.device('cuda' if torch.cuda.is_available() else 'cpu')\n",
    "\n",
    "\n",
    "datasets_path = '/home/luke/VIU/09MIAR/datasets'\n",
    "valid_files_csv_path = '/home/luke/valid_files.csv'\n",
    "\n",
    "main.train_vae(datasets_path,valid_files_csv_path)"
   ]
  },
  {
   "cell_type": "code",
   "execution_count": null,
   "metadata": {},
   "outputs": [],
   "source": [
    "model = LitVAE()\n",
    "model.load_state_dict(torch.load(\"checkpoints/vae_best.pt\", map_location=\"cuda\"))\n",
    "model.to(\"cuda\")\n",
    "model.eval()\n",
    "\n",
    "generate_audio_from_noise(model, genre_id=0, output_path=\"sample_genre0.wav\")\n",
    "generate_audio_from_noise(model, genre_id=1, output_path=\"sample_genre1.wav\")\n",
    "generate_audio_from_noise(model, genre_id=2, output_path=\"sample_genre2.wav\")\n",
    "generate_audio_from_noise(model, genre_id=3, output_path=\"sample_genre3.wav\")\n",
    "generate_audio_from_noise(model, genre_id=4, output_path=\"sample_genre4.wav\")\n",
    "generate_audio_from_noise(model, genre_id=7, output_path=\"sample_genre7.wav\")"
   ]
  },
  {
   "cell_type": "code",
   "execution_count": null,
   "metadata": {},
   "outputs": [],
   "source": [
    "\n",
    "batch = next(iter(dataloader))\n",
    "\n",
    "\n",
    "x, y = batch\n",
    "\n",
    "print(\"Shape del batch completo (x):\", x.shape)\n",
    "print(\"Shape del target (y):\", y.shape if y is not None else \"None\")\n",
    "\n",
    "\n",
    "print(\"\\nEjemplo individual:\")\n",
    "ejemplo = x[0]\n",
    "print(\"Shape del ejemplo:\", ejemplo.shape)\n",
    "\n",
    "\n",
    "import matplotlib.pyplot as plt\n",
    "\n",
    "if ejemplo.ndim == 3:\n",
    "\n",
    "    plt.imshow(ejemplo.squeeze().cpu(), aspect='auto', origin='lower')\n",
    "    plt.title(\"Espectrograma del primer segmento\")\n",
    "    plt.colorbar()\n",
    "    plt.show()\n",
    "elif ejemplo.ndim == 4:\n",
    "\n",
    "    print(\"Número de segmentos:\", ejemplo.shape[0])\n",
    "    fig, axs = plt.subplots(1, ejemplo.shape[0], figsize=(15, 3))\n",
    "    for i in range(ejemplo.shape[0]):\n",
    "        axs[i].imshow(ejemplo[i].squeeze().cpu(), aspect='auto', origin='lower')\n",
    "        axs[i].set_title(f\"Segmento {i+1}\")\n",
    "    plt.show()\n",
    "else:\n",
    "    print(\"Formato no esperado.\")\n"
   ]
  },
  {
   "cell_type": "code",
   "execution_count": null,
   "metadata": {},
   "outputs": [],
   "source": []
  }
 ],
 "metadata": {
  "kernelspec": {
   "display_name": "Python (jupyter_env)",
   "language": "python",
   "name": "jupyter_env"
  },
  "language_info": {
   "codemirror_mode": {
    "name": "ipython",
    "version": 3
   },
   "file_extension": ".py",
   "mimetype": "text/x-python",
   "name": "python",
   "nbconvert_exporter": "python",
   "pygments_lexer": "ipython3",
   "version": "3.12.7"
  }
 },
 "nbformat": 4,
 "nbformat_minor": 2
}
